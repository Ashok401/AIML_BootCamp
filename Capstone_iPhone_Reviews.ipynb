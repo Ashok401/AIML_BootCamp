{
  "nbformat": 4,
  "nbformat_minor": 0,
  "metadata": {
    "colab": {
      "provenance": [],
      "authorship_tag": "ABX9TyNwN9gw4hTcNz/nZygn59cR",
      "include_colab_link": true
    },
    "kernelspec": {
      "name": "python3",
      "display_name": "Python 3"
    },
    "language_info": {
      "name": "python"
    }
  },
  "cells": [
    {
      "cell_type": "markdown",
      "metadata": {
        "id": "view-in-github",
        "colab_type": "text"
      },
      "source": [
        "<a href=\"https://colab.research.google.com/github/Ashok401/AIML_BootCamp/blob/main/Capstone_iPhone_Reviews.ipynb\" target=\"_parent\"><img src=\"https://colab.research.google.com/assets/colab-badge.svg\" alt=\"Open In Colab\"/></a>"
      ]
    },
    {
      "cell_type": "code",
      "source": [
        "import pandas as pd\n",
        "import matplotlib.pyplot as plt\n",
        "import seaborn as sns\n",
        "df = pd.read_csv('/content/iphone.csv')"
      ],
      "metadata": {
        "id": "6jKEW8EpTE1V"
      },
      "execution_count": 19,
      "outputs": []
    },
    {
      "cell_type": "code",
      "source": [
        "df.head()"
      ],
      "metadata": {
        "colab": {
          "base_uri": "https://localhost:8080/",
          "height": 394
        },
        "id": "PefQeOSFT_ah",
        "outputId": "ad8acfda-b4e0-4bad-c6cc-347831956150"
      },
      "execution_count": 20,
      "outputs": [
        {
          "output_type": "execute_result",
          "data": {
            "text/plain": [
              "  productAsin country        date  isVerified  ratingScore  \\\n",
              "0  B09G9BL5CP   India  11-08-2024        True            4   \n",
              "1  B09G9BL5CP   India  16-08-2024        True            5   \n",
              "2  B09G9BL5CP   India  14-05-2024        True            4   \n",
              "3  B09G9BL5CP   India  24-06-2024        True            5   \n",
              "4  B09G9BL5CP   India  18-05-2024        True            5   \n",
              "\n",
              "               reviewTitle                                  reviewDescription  \\\n",
              "0               No charger  Every thing is good about iPhones, there's not...   \n",
              "1          iPhone 13 256GB  It look so fabulous, I am android user switche...   \n",
              "2  Flip camera option nill  I tried to flip camera while recording but no ...   \n",
              "3                  Product                                       100% genuine   \n",
              "4             Good product         Happy to get the iPhone 13 in Amazon offer   \n",
              "\n",
              "                                           reviewUrl  \\\n",
              "0  https://www.amazon.in/gp/customer-reviews/R345...   \n",
              "1  https://www.amazon.in/gp/customer-reviews/R2HJ...   \n",
              "2  https://www.amazon.in/gp/customer-reviews/R3Y7...   \n",
              "3  https://www.amazon.in/gp/customer-reviews/R1P9...   \n",
              "4  https://www.amazon.in/gp/customer-reviews/R1XI...   \n",
              "\n",
              "                            reviewedIn                       variant  \\\n",
              "0  Reviewed in India on 11 August 2024  Colour: MidnightSize: 256 GB   \n",
              "1  Reviewed in India on 16 August 2024  Colour: MidnightSize: 256 GB   \n",
              "2     Reviewed in India on 14 May 2024  Colour: MidnightSize: 256 GB   \n",
              "3    Reviewed in India on 24 June 2024  Colour: MidnightSize: 256 GB   \n",
              "4     Reviewed in India on 18 May 2024  Colour: MidnightSize: 256 GB   \n",
              "\n",
              "  variantAsin  \n",
              "0  B09G9BQS98  \n",
              "1  B09G9BQS98  \n",
              "2  B09G9BQS98  \n",
              "3  B09G9BQS98  \n",
              "4  B09G9BQS98  "
            ],
            "text/html": [
              "\n",
              "  <div id=\"df-60f3f5cb-719d-492d-bdbe-ea287dd6e94c\" class=\"colab-df-container\">\n",
              "    <div>\n",
              "<style scoped>\n",
              "    .dataframe tbody tr th:only-of-type {\n",
              "        vertical-align: middle;\n",
              "    }\n",
              "\n",
              "    .dataframe tbody tr th {\n",
              "        vertical-align: top;\n",
              "    }\n",
              "\n",
              "    .dataframe thead th {\n",
              "        text-align: right;\n",
              "    }\n",
              "</style>\n",
              "<table border=\"1\" class=\"dataframe\">\n",
              "  <thead>\n",
              "    <tr style=\"text-align: right;\">\n",
              "      <th></th>\n",
              "      <th>productAsin</th>\n",
              "      <th>country</th>\n",
              "      <th>date</th>\n",
              "      <th>isVerified</th>\n",
              "      <th>ratingScore</th>\n",
              "      <th>reviewTitle</th>\n",
              "      <th>reviewDescription</th>\n",
              "      <th>reviewUrl</th>\n",
              "      <th>reviewedIn</th>\n",
              "      <th>variant</th>\n",
              "      <th>variantAsin</th>\n",
              "    </tr>\n",
              "  </thead>\n",
              "  <tbody>\n",
              "    <tr>\n",
              "      <th>0</th>\n",
              "      <td>B09G9BL5CP</td>\n",
              "      <td>India</td>\n",
              "      <td>11-08-2024</td>\n",
              "      <td>True</td>\n",
              "      <td>4</td>\n",
              "      <td>No charger</td>\n",
              "      <td>Every thing is good about iPhones, there's not...</td>\n",
              "      <td>https://www.amazon.in/gp/customer-reviews/R345...</td>\n",
              "      <td>Reviewed in India on 11 August 2024</td>\n",
              "      <td>Colour: MidnightSize: 256 GB</td>\n",
              "      <td>B09G9BQS98</td>\n",
              "    </tr>\n",
              "    <tr>\n",
              "      <th>1</th>\n",
              "      <td>B09G9BL5CP</td>\n",
              "      <td>India</td>\n",
              "      <td>16-08-2024</td>\n",
              "      <td>True</td>\n",
              "      <td>5</td>\n",
              "      <td>iPhone 13 256GB</td>\n",
              "      <td>It look so fabulous, I am android user switche...</td>\n",
              "      <td>https://www.amazon.in/gp/customer-reviews/R2HJ...</td>\n",
              "      <td>Reviewed in India on 16 August 2024</td>\n",
              "      <td>Colour: MidnightSize: 256 GB</td>\n",
              "      <td>B09G9BQS98</td>\n",
              "    </tr>\n",
              "    <tr>\n",
              "      <th>2</th>\n",
              "      <td>B09G9BL5CP</td>\n",
              "      <td>India</td>\n",
              "      <td>14-05-2024</td>\n",
              "      <td>True</td>\n",
              "      <td>4</td>\n",
              "      <td>Flip camera option nill</td>\n",
              "      <td>I tried to flip camera while recording but no ...</td>\n",
              "      <td>https://www.amazon.in/gp/customer-reviews/R3Y7...</td>\n",
              "      <td>Reviewed in India on 14 May 2024</td>\n",
              "      <td>Colour: MidnightSize: 256 GB</td>\n",
              "      <td>B09G9BQS98</td>\n",
              "    </tr>\n",
              "    <tr>\n",
              "      <th>3</th>\n",
              "      <td>B09G9BL5CP</td>\n",
              "      <td>India</td>\n",
              "      <td>24-06-2024</td>\n",
              "      <td>True</td>\n",
              "      <td>5</td>\n",
              "      <td>Product</td>\n",
              "      <td>100% genuine</td>\n",
              "      <td>https://www.amazon.in/gp/customer-reviews/R1P9...</td>\n",
              "      <td>Reviewed in India on 24 June 2024</td>\n",
              "      <td>Colour: MidnightSize: 256 GB</td>\n",
              "      <td>B09G9BQS98</td>\n",
              "    </tr>\n",
              "    <tr>\n",
              "      <th>4</th>\n",
              "      <td>B09G9BL5CP</td>\n",
              "      <td>India</td>\n",
              "      <td>18-05-2024</td>\n",
              "      <td>True</td>\n",
              "      <td>5</td>\n",
              "      <td>Good product</td>\n",
              "      <td>Happy to get the iPhone 13 in Amazon offer</td>\n",
              "      <td>https://www.amazon.in/gp/customer-reviews/R1XI...</td>\n",
              "      <td>Reviewed in India on 18 May 2024</td>\n",
              "      <td>Colour: MidnightSize: 256 GB</td>\n",
              "      <td>B09G9BQS98</td>\n",
              "    </tr>\n",
              "  </tbody>\n",
              "</table>\n",
              "</div>\n",
              "    <div class=\"colab-df-buttons\">\n",
              "\n",
              "  <div class=\"colab-df-container\">\n",
              "    <button class=\"colab-df-convert\" onclick=\"convertToInteractive('df-60f3f5cb-719d-492d-bdbe-ea287dd6e94c')\"\n",
              "            title=\"Convert this dataframe to an interactive table.\"\n",
              "            style=\"display:none;\">\n",
              "\n",
              "  <svg xmlns=\"http://www.w3.org/2000/svg\" height=\"24px\" viewBox=\"0 -960 960 960\">\n",
              "    <path d=\"M120-120v-720h720v720H120Zm60-500h600v-160H180v160Zm220 220h160v-160H400v160Zm0 220h160v-160H400v160ZM180-400h160v-160H180v160Zm440 0h160v-160H620v160ZM180-180h160v-160H180v160Zm440 0h160v-160H620v160Z\"/>\n",
              "  </svg>\n",
              "    </button>\n",
              "\n",
              "  <style>\n",
              "    .colab-df-container {\n",
              "      display:flex;\n",
              "      gap: 12px;\n",
              "    }\n",
              "\n",
              "    .colab-df-convert {\n",
              "      background-color: #E8F0FE;\n",
              "      border: none;\n",
              "      border-radius: 50%;\n",
              "      cursor: pointer;\n",
              "      display: none;\n",
              "      fill: #1967D2;\n",
              "      height: 32px;\n",
              "      padding: 0 0 0 0;\n",
              "      width: 32px;\n",
              "    }\n",
              "\n",
              "    .colab-df-convert:hover {\n",
              "      background-color: #E2EBFA;\n",
              "      box-shadow: 0px 1px 2px rgba(60, 64, 67, 0.3), 0px 1px 3px 1px rgba(60, 64, 67, 0.15);\n",
              "      fill: #174EA6;\n",
              "    }\n",
              "\n",
              "    .colab-df-buttons div {\n",
              "      margin-bottom: 4px;\n",
              "    }\n",
              "\n",
              "    [theme=dark] .colab-df-convert {\n",
              "      background-color: #3B4455;\n",
              "      fill: #D2E3FC;\n",
              "    }\n",
              "\n",
              "    [theme=dark] .colab-df-convert:hover {\n",
              "      background-color: #434B5C;\n",
              "      box-shadow: 0px 1px 3px 1px rgba(0, 0, 0, 0.15);\n",
              "      filter: drop-shadow(0px 1px 2px rgba(0, 0, 0, 0.3));\n",
              "      fill: #FFFFFF;\n",
              "    }\n",
              "  </style>\n",
              "\n",
              "    <script>\n",
              "      const buttonEl =\n",
              "        document.querySelector('#df-60f3f5cb-719d-492d-bdbe-ea287dd6e94c button.colab-df-convert');\n",
              "      buttonEl.style.display =\n",
              "        google.colab.kernel.accessAllowed ? 'block' : 'none';\n",
              "\n",
              "      async function convertToInteractive(key) {\n",
              "        const element = document.querySelector('#df-60f3f5cb-719d-492d-bdbe-ea287dd6e94c');\n",
              "        const dataTable =\n",
              "          await google.colab.kernel.invokeFunction('convertToInteractive',\n",
              "                                                    [key], {});\n",
              "        if (!dataTable) return;\n",
              "\n",
              "        const docLinkHtml = 'Like what you see? Visit the ' +\n",
              "          '<a target=\"_blank\" href=https://colab.research.google.com/notebooks/data_table.ipynb>data table notebook</a>'\n",
              "          + ' to learn more about interactive tables.';\n",
              "        element.innerHTML = '';\n",
              "        dataTable['output_type'] = 'display_data';\n",
              "        await google.colab.output.renderOutput(dataTable, element);\n",
              "        const docLink = document.createElement('div');\n",
              "        docLink.innerHTML = docLinkHtml;\n",
              "        element.appendChild(docLink);\n",
              "      }\n",
              "    </script>\n",
              "  </div>\n",
              "\n",
              "\n",
              "    <div id=\"df-c270576c-dfa8-47c3-9518-f4cb794979a3\">\n",
              "      <button class=\"colab-df-quickchart\" onclick=\"quickchart('df-c270576c-dfa8-47c3-9518-f4cb794979a3')\"\n",
              "                title=\"Suggest charts\"\n",
              "                style=\"display:none;\">\n",
              "\n",
              "<svg xmlns=\"http://www.w3.org/2000/svg\" height=\"24px\"viewBox=\"0 0 24 24\"\n",
              "     width=\"24px\">\n",
              "    <g>\n",
              "        <path d=\"M19 3H5c-1.1 0-2 .9-2 2v14c0 1.1.9 2 2 2h14c1.1 0 2-.9 2-2V5c0-1.1-.9-2-2-2zM9 17H7v-7h2v7zm4 0h-2V7h2v10zm4 0h-2v-4h2v4z\"/>\n",
              "    </g>\n",
              "</svg>\n",
              "      </button>\n",
              "\n",
              "<style>\n",
              "  .colab-df-quickchart {\n",
              "      --bg-color: #E8F0FE;\n",
              "      --fill-color: #1967D2;\n",
              "      --hover-bg-color: #E2EBFA;\n",
              "      --hover-fill-color: #174EA6;\n",
              "      --disabled-fill-color: #AAA;\n",
              "      --disabled-bg-color: #DDD;\n",
              "  }\n",
              "\n",
              "  [theme=dark] .colab-df-quickchart {\n",
              "      --bg-color: #3B4455;\n",
              "      --fill-color: #D2E3FC;\n",
              "      --hover-bg-color: #434B5C;\n",
              "      --hover-fill-color: #FFFFFF;\n",
              "      --disabled-bg-color: #3B4455;\n",
              "      --disabled-fill-color: #666;\n",
              "  }\n",
              "\n",
              "  .colab-df-quickchart {\n",
              "    background-color: var(--bg-color);\n",
              "    border: none;\n",
              "    border-radius: 50%;\n",
              "    cursor: pointer;\n",
              "    display: none;\n",
              "    fill: var(--fill-color);\n",
              "    height: 32px;\n",
              "    padding: 0;\n",
              "    width: 32px;\n",
              "  }\n",
              "\n",
              "  .colab-df-quickchart:hover {\n",
              "    background-color: var(--hover-bg-color);\n",
              "    box-shadow: 0 1px 2px rgba(60, 64, 67, 0.3), 0 1px 3px 1px rgba(60, 64, 67, 0.15);\n",
              "    fill: var(--button-hover-fill-color);\n",
              "  }\n",
              "\n",
              "  .colab-df-quickchart-complete:disabled,\n",
              "  .colab-df-quickchart-complete:disabled:hover {\n",
              "    background-color: var(--disabled-bg-color);\n",
              "    fill: var(--disabled-fill-color);\n",
              "    box-shadow: none;\n",
              "  }\n",
              "\n",
              "  .colab-df-spinner {\n",
              "    border: 2px solid var(--fill-color);\n",
              "    border-color: transparent;\n",
              "    border-bottom-color: var(--fill-color);\n",
              "    animation:\n",
              "      spin 1s steps(1) infinite;\n",
              "  }\n",
              "\n",
              "  @keyframes spin {\n",
              "    0% {\n",
              "      border-color: transparent;\n",
              "      border-bottom-color: var(--fill-color);\n",
              "      border-left-color: var(--fill-color);\n",
              "    }\n",
              "    20% {\n",
              "      border-color: transparent;\n",
              "      border-left-color: var(--fill-color);\n",
              "      border-top-color: var(--fill-color);\n",
              "    }\n",
              "    30% {\n",
              "      border-color: transparent;\n",
              "      border-left-color: var(--fill-color);\n",
              "      border-top-color: var(--fill-color);\n",
              "      border-right-color: var(--fill-color);\n",
              "    }\n",
              "    40% {\n",
              "      border-color: transparent;\n",
              "      border-right-color: var(--fill-color);\n",
              "      border-top-color: var(--fill-color);\n",
              "    }\n",
              "    60% {\n",
              "      border-color: transparent;\n",
              "      border-right-color: var(--fill-color);\n",
              "    }\n",
              "    80% {\n",
              "      border-color: transparent;\n",
              "      border-right-color: var(--fill-color);\n",
              "      border-bottom-color: var(--fill-color);\n",
              "    }\n",
              "    90% {\n",
              "      border-color: transparent;\n",
              "      border-bottom-color: var(--fill-color);\n",
              "    }\n",
              "  }\n",
              "</style>\n",
              "\n",
              "      <script>\n",
              "        async function quickchart(key) {\n",
              "          const quickchartButtonEl =\n",
              "            document.querySelector('#' + key + ' button');\n",
              "          quickchartButtonEl.disabled = true;  // To prevent multiple clicks.\n",
              "          quickchartButtonEl.classList.add('colab-df-spinner');\n",
              "          try {\n",
              "            const charts = await google.colab.kernel.invokeFunction(\n",
              "                'suggestCharts', [key], {});\n",
              "          } catch (error) {\n",
              "            console.error('Error during call to suggestCharts:', error);\n",
              "          }\n",
              "          quickchartButtonEl.classList.remove('colab-df-spinner');\n",
              "          quickchartButtonEl.classList.add('colab-df-quickchart-complete');\n",
              "        }\n",
              "        (() => {\n",
              "          let quickchartButtonEl =\n",
              "            document.querySelector('#df-c270576c-dfa8-47c3-9518-f4cb794979a3 button');\n",
              "          quickchartButtonEl.style.display =\n",
              "            google.colab.kernel.accessAllowed ? 'block' : 'none';\n",
              "        })();\n",
              "      </script>\n",
              "    </div>\n",
              "\n",
              "    </div>\n",
              "  </div>\n"
            ],
            "application/vnd.google.colaboratory.intrinsic+json": {
              "type": "dataframe",
              "variable_name": "df",
              "summary": "{\n  \"name\": \"df\",\n  \"rows\": 3062,\n  \"fields\": [\n    {\n      \"column\": \"productAsin\",\n      \"properties\": {\n        \"dtype\": \"category\",\n        \"num_unique_values\": 7,\n        \"samples\": [\n          \"B09G9BL5CP\",\n          \"B09P82T3PZ\",\n          \"B0BN72MLT2\"\n        ],\n        \"semantic_type\": \"\",\n        \"description\": \"\"\n      }\n    },\n    {\n      \"column\": \"country\",\n      \"properties\": {\n        \"dtype\": \"category\",\n        \"num_unique_values\": 7,\n        \"samples\": [\n          \"India\",\n          \"Japan\",\n          \"Mexico\"\n        ],\n        \"semantic_type\": \"\",\n        \"description\": \"\"\n      }\n    },\n    {\n      \"column\": \"date\",\n      \"properties\": {\n        \"dtype\": \"category\",\n        \"num_unique_values\": 789,\n        \"samples\": [\n          \"23-12-2023\",\n          \"22-06-2024\",\n          \"06-09-2022\"\n        ],\n        \"semantic_type\": \"\",\n        \"description\": \"\"\n      }\n    },\n    {\n      \"column\": \"isVerified\",\n      \"properties\": {\n        \"dtype\": \"boolean\",\n        \"num_unique_values\": 2,\n        \"samples\": [\n          false,\n          true\n        ],\n        \"semantic_type\": \"\",\n        \"description\": \"\"\n      }\n    },\n    {\n      \"column\": \"ratingScore\",\n      \"properties\": {\n        \"dtype\": \"number\",\n        \"std\": 1,\n        \"min\": 1,\n        \"max\": 5,\n        \"num_unique_values\": 5,\n        \"samples\": [\n          5,\n          1\n        ],\n        \"semantic_type\": \"\",\n        \"description\": \"\"\n      }\n    },\n    {\n      \"column\": \"reviewTitle\",\n      \"properties\": {\n        \"dtype\": \"string\",\n        \"num_unique_values\": 2018,\n        \"samples\": [\n          \"Could not even tell it was renewed!\",\n          \"Battery maximum capacity 89%\"\n        ],\n        \"semantic_type\": \"\",\n        \"description\": \"\"\n      }\n    },\n    {\n      \"column\": \"reviewDescription\",\n      \"properties\": {\n        \"dtype\": \"string\",\n        \"num_unique_values\": 2297,\n        \"samples\": [\n          \"I had a 5 year old Redmi phone.I was unhappy as call recording stopped working, carrier video calling stopped working, battery charging speed reduced, fingerprint stopped working etc etc...So I bought an iPhone.Now I'm happy - it has no call recording (so cannot stop working), no carrier video calling (so cannot stop working), slow battery charging, no fingerprint (so cannot stop working) etc etc...\",\n          \"Very good product\"\n        ],\n        \"semantic_type\": \"\",\n        \"description\": \"\"\n      }\n    },\n    {\n      \"column\": \"reviewUrl\",\n      \"properties\": {\n        \"dtype\": \"string\",\n        \"num_unique_values\": 2460,\n        \"samples\": [\n          \"https://www.amazon.com/gp/customer-reviews/R25EMNUOD7Y2SZ/ref=cm_cr_getr_d_rvw_ttl?ie=UTF8&ASIN=B0BN71T1J7\",\n          \"https://www.amazon.in/gp/customer-reviews/R2POVHKQTONWXM/ref=cm_cr_getr_d_rvw_ttl?ie=UTF8&ASIN=B0BDJ6N5D6\"\n        ],\n        \"semantic_type\": \"\",\n        \"description\": \"\"\n      }\n    },\n    {\n      \"column\": \"reviewedIn\",\n      \"properties\": {\n        \"dtype\": \"category\",\n        \"num_unique_values\": 1255,\n        \"samples\": [\n          \"Reviewed in India on 1 September 2023\",\n          \"Reviewed in India on 1 July 2022\"\n        ],\n        \"semantic_type\": \"\",\n        \"description\": \"\"\n      }\n    },\n    {\n      \"column\": \"variant\",\n      \"properties\": {\n        \"dtype\": \"category\",\n        \"num_unique_values\": 86,\n        \"samples\": [\n          \"Service Provider: UnlockedColor: MidnightSize: 256GB\",\n          \"Colour: MidnightSize: 256 GB\"\n        ],\n        \"semantic_type\": \"\",\n        \"description\": \"\"\n      }\n    },\n    {\n      \"column\": \"variantAsin\",\n      \"properties\": {\n        \"dtype\": \"category\",\n        \"num_unique_values\": 99,\n        \"samples\": [\n          \"B0BN752KC4\",\n          \"B0CHX1W1XY\"\n        ],\n        \"semantic_type\": \"\",\n        \"description\": \"\"\n      }\n    }\n  ]\n}"
            }
          },
          "metadata": {},
          "execution_count": 20
        }
      ]
    },
    {
      "cell_type": "code",
      "source": [
        "df.shape"
      ],
      "metadata": {
        "colab": {
          "base_uri": "https://localhost:8080/"
        },
        "id": "T-BhuXovbJAe",
        "outputId": "1d97ef0a-963b-4847-cd55-dec1ab48436d"
      },
      "execution_count": 21,
      "outputs": [
        {
          "output_type": "execute_result",
          "data": {
            "text/plain": [
              "(3062, 11)"
            ]
          },
          "metadata": {},
          "execution_count": 21
        }
      ]
    },
    {
      "cell_type": "code",
      "source": [
        "df.dropna(axis=0, inplace=True)"
      ],
      "metadata": {
        "id": "mHt6wY3YaEHg"
      },
      "execution_count": 22,
      "outputs": []
    },
    {
      "cell_type": "code",
      "source": [
        "df.shape"
      ],
      "metadata": {
        "colab": {
          "base_uri": "https://localhost:8080/"
        },
        "id": "d9xag5w7ao38",
        "outputId": "c38272b1-25ae-40d3-f17e-ef1c738b4fc1"
      },
      "execution_count": 23,
      "outputs": [
        {
          "output_type": "execute_result",
          "data": {
            "text/plain": [
              "(2960, 11)"
            ]
          },
          "metadata": {},
          "execution_count": 23
        }
      ]
    },
    {
      "cell_type": "code",
      "source": [
        "df[df['ratingScore'] == 5].value_counts().sum()"
      ],
      "metadata": {
        "colab": {
          "base_uri": "https://localhost:8080/"
        },
        "id": "GAbBNf2rbnoy",
        "outputId": "f19456cb-9c9e-41a9-cdc7-0adaa0a68070"
      },
      "execution_count": 24,
      "outputs": [
        {
          "output_type": "execute_result",
          "data": {
            "text/plain": [
              "np.int64(1539)"
            ]
          },
          "metadata": {},
          "execution_count": 24
        }
      ]
    },
    {
      "cell_type": "code",
      "source": [
        "value_counts = df['isVerified'].value_counts()\n",
        "value_counts.plot(kind='bar')\n",
        "plt.show()\n"
      ],
      "metadata": {
        "colab": {
          "base_uri": "https://localhost:8080/",
          "height": 470
        },
        "id": "CNFXLDzsEAx3",
        "outputId": "72d6823b-bbd9-4637-817e-54abb659f53b"
      },
      "execution_count": 25,
      "outputs": [
        {
          "output_type": "display_data",
          "data": {
            "text/plain": [
              "<Figure size 640x480 with 1 Axes>"
            ],
            "image/png": "[encoded data removed]"
          },
          "metadata": {}
        }
      ]
    },
    {
      "cell_type": "code",
      "source": [
        "df['variant'].describe()\n",
        "#Most popular model from the set: Colour: BlueSize: 128 GB"
      ],
      "metadata": {
        "colab": {
          "base_uri": "https://localhost:8080/",
          "height": 207
        },
        "id": "5JLYzTsVEvM6",
        "outputId": "61ac54a3-6358-4b89-cdd9-5ae1fb34795f"
      },
      "execution_count": 26,
      "outputs": [
        {
          "output_type": "execute_result",
          "data": {
            "text/plain": [
              "count                         2960\n",
              "unique                          86\n",
              "top       Colour: BlueSize: 128 GB\n",
              "freq                           292\n",
              "Name: variant, dtype: object"
            ],
            "text/html": [
              "<div>\n",
              "<style scoped>\n",
              "    .dataframe tbody tr th:only-of-type {\n",
              "        vertical-align: middle;\n",
              "    }\n",
              "\n",
              "    .dataframe tbody tr th {\n",
              "        vertical-align: top;\n",
              "    }\n",
              "\n",
              "    .dataframe thead th {\n",
              "        text-align: right;\n",
              "    }\n",
              "</style>\n",
              "<table border=\"1\" class=\"dataframe\">\n",
              "  <thead>\n",
              "    <tr style=\"text-align: right;\">\n",
              "      <th></th>\n",
              "      <th>variant</th>\n",
              "    </tr>\n",
              "  </thead>\n",
              "  <tbody>\n",
              "    <tr>\n",
              "      <th>count</th>\n",
              "      <td>2960</td>\n",
              "    </tr>\n",
              "    <tr>\n",
              "      <th>unique</th>\n",
              "      <td>86</td>\n",
              "    </tr>\n",
              "    <tr>\n",
              "      <th>top</th>\n",
              "      <td>Colour: BlueSize: 128 GB</td>\n",
              "    </tr>\n",
              "    <tr>\n",
              "      <th>freq</th>\n",
              "      <td>292</td>\n",
              "    </tr>\n",
              "  </tbody>\n",
              "</table>\n",
              "</div><br><label><b>dtype:</b> object</label>"
            ]
          },
          "metadata": {},
          "execution_count": 26
        }
      ]
    },
    {
      "cell_type": "code",
      "source": [
        "df['reviewDescription'].describe()"
      ],
      "metadata": {
        "colab": {
          "base_uri": "https://localhost:8080/",
          "height": 207
        },
        "id": "upg4GX-PGPvg",
        "outputId": "65b9600b-5916-4273-9152-fc0d8ee4fb21"
      },
      "execution_count": 27,
      "outputs": [
        {
          "output_type": "execute_result",
          "data": {
            "text/plain": [
              "count     2960\n",
              "unique    2281\n",
              "top       Good\n",
              "freq        32\n",
              "Name: reviewDescription, dtype: object"
            ],
            "text/html": [
              "<div>\n",
              "<style scoped>\n",
              "    .dataframe tbody tr th:only-of-type {\n",
              "        vertical-align: middle;\n",
              "    }\n",
              "\n",
              "    .dataframe tbody tr th {\n",
              "        vertical-align: top;\n",
              "    }\n",
              "\n",
              "    .dataframe thead th {\n",
              "        text-align: right;\n",
              "    }\n",
              "</style>\n",
              "<table border=\"1\" class=\"dataframe\">\n",
              "  <thead>\n",
              "    <tr style=\"text-align: right;\">\n",
              "      <th></th>\n",
              "      <th>reviewDescription</th>\n",
              "    </tr>\n",
              "  </thead>\n",
              "  <tbody>\n",
              "    <tr>\n",
              "      <th>count</th>\n",
              "      <td>2960</td>\n",
              "    </tr>\n",
              "    <tr>\n",
              "      <th>unique</th>\n",
              "      <td>2281</td>\n",
              "    </tr>\n",
              "    <tr>\n",
              "      <th>top</th>\n",
              "      <td>Good</td>\n",
              "    </tr>\n",
              "    <tr>\n",
              "      <th>freq</th>\n",
              "      <td>32</td>\n",
              "    </tr>\n",
              "  </tbody>\n",
              "</table>\n",
              "</div><br><label><b>dtype:</b> object</label>"
            ]
          },
          "metadata": {},
          "execution_count": 27
        }
      ]
    },
    {
      "cell_type": "code",
      "source": [
        "df['country'].value_counts().plot(kind='bar')\n",
        "plt.show()"
      ],
      "metadata": {
        "colab": {
          "base_uri": "https://localhost:8080/",
          "height": 584
        },
        "id": "ybGXy--_MNfd",
        "outputId": "45b109b8-240b-4cdb-ce23-85ce8058efcd"
      },
      "execution_count": 28,
      "outputs": [
        {
          "output_type": "display_data",
          "data": {
            "text/plain": [
              "<Figure size 640x480 with 1 Axes>"
            ],
            "image/png": "[encoded data removed]"
          },
          "metadata": {}
        }
      ]
    },
    {
      "cell_type": "code",
      "source": [
        "MidnightSize = df['variant'].str.contains('Color: MidnightSize', na = False).sum()\n",
        "Blue = df['variant'].str.contains('Color: Blue', na = False).sum()\n",
        "Starlight = df['variant'].str.contains('Color: Starlight', na = False).sum()\n",
        "Pink = df['variant'].str.contains('Color: Pink', na = False).sum()\n",
        "Yellow = df['variant'].str.contains('Color: Yellow', na = False).sum()\n",
        "\n",
        "plt.pie([MidnightSize, Blue, Starlight, Pink, Yellow], labels=['Midnight', 'Blue', 'Starlight', 'Pink','Yellow'], autopct='%1.1f%%')\n",
        "plt.show()"
      ],
      "metadata": {
        "colab": {
          "base_uri": "https://localhost:8080/",
          "height": 406
        },
        "id": "mx0C2gQzJWUR",
        "outputId": "1064cd62-5c65-4b9e-c950-9033c8f985a6"
      },
      "execution_count": 29,
      "outputs": [
        {
          "output_type": "display_data",
          "data": {
            "text/plain": [
              "<Figure size 640x480 with 1 Axes>"
            ],
            "image/png": "[encoded data removed]"
          },
          "metadata": {}
        }
      ]
    },
    {
      "cell_type": "code",
      "source": [
        "Size_128 = df['variant'].str.contains('Size: 128GB', na = False).sum()\n",
        "Size_256 = df['variant'].str.contains('Size: 256GB', na = False).sum()\n",
        "Size_512 = df['variant'].str.contains('Size: 512GB', na = False).sum()\n",
        "plt.pie([Size_128, Size_256, Size_512], labels=['128GB', '256GB', '512GB'], autopct='%1.1f%%')\n",
        "plt.show()\n"
      ],
      "metadata": {
        "colab": {
          "base_uri": "https://localhost:8080/",
          "height": 406
        },
        "id": "0X2q-UenLWuC",
        "outputId": "66320bd0-a47b-440e-f045-fbe05ca80cd7"
      },
      "execution_count": 30,
      "outputs": [
        {
          "output_type": "display_data",
          "data": {
            "text/plain": [
              "<Figure size 640x480 with 1 Axes>"
            ],
            "image/png": "[encoded data removed]"
          },
          "metadata": {}
        }
      ]
    },
    {
      "cell_type": "code",
      "source": [
        "df[df['reviewDescription'].str.contains('not happy', na = False)]['reviewDescription']\n"
      ],
      "metadata": {
        "id": "z1XZcOLOPdRd",
        "outputId": "91562dc9-2b16-4e19-a2b6-4cdff0dc5928",
        "colab": {
          "base_uri": "https://localhost:8080/",
          "height": 207
        }
      },
      "execution_count": 31,
      "outputs": [
        {
          "output_type": "execute_result",
          "data": {
            "text/plain": [
              "1158    I recently purchased I phone 14 and I'm not ha...\n",
              "1641    Happy with the phone, but not happy with the s...\n",
              "1681    I bought it in good condition. I paid $450 but...\n",
              "3058    iam not happy with this product why because ch...\n",
              "Name: reviewDescription, dtype: object"
            ],
            "text/html": [
              "<div>\n",
              "<style scoped>\n",
              "    .dataframe tbody tr th:only-of-type {\n",
              "        vertical-align: middle;\n",
              "    }\n",
              "\n",
              "    .dataframe tbody tr th {\n",
              "        vertical-align: top;\n",
              "    }\n",
              "\n",
              "    .dataframe thead th {\n",
              "        text-align: right;\n",
              "    }\n",
              "</style>\n",
              "<table border=\"1\" class=\"dataframe\">\n",
              "  <thead>\n",
              "    <tr style=\"text-align: right;\">\n",
              "      <th></th>\n",
              "      <th>reviewDescription</th>\n",
              "    </tr>\n",
              "  </thead>\n",
              "  <tbody>\n",
              "    <tr>\n",
              "      <th>1158</th>\n",
              "      <td>I recently purchased I phone 14 and I'm not ha...</td>\n",
              "    </tr>\n",
              "    <tr>\n",
              "      <th>1641</th>\n",
              "      <td>Happy with the phone, but not happy with the s...</td>\n",
              "    </tr>\n",
              "    <tr>\n",
              "      <th>1681</th>\n",
              "      <td>I bought it in good condition. I paid $450 but...</td>\n",
              "    </tr>\n",
              "    <tr>\n",
              "      <th>3058</th>\n",
              "      <td>iam not happy with this product why because ch...</td>\n",
              "    </tr>\n",
              "  </tbody>\n",
              "</table>\n",
              "</div><br><label><b>dtype:</b> object</label>"
            ]
          },
          "metadata": {},
          "execution_count": 31
        }
      ]
    },
    {
      "cell_type": "code",
      "source": [
        "df['ratingScore'].value_counts().plot(kind='bar')\n",
        "plt.show()"
      ],
      "metadata": {
        "id": "ZhMLrn61DLfh",
        "outputId": "dfac0bbe-ca0f-4f98-81e0-14a0213389d3",
        "colab": {
          "base_uri": "https://localhost:8080/",
          "height": 446
        }
      },
      "execution_count": 33,
      "outputs": [
        {
          "output_type": "display_data",
          "data": {
            "text/plain": [
              "<Figure size 640x480 with 1 Axes>"
            ],
            "image/png": "[encoded data removed]"
          },
          "metadata": {}
        }
      ]
    },
    {
      "cell_type": "code",
      "source": [
        "df[df['ratingScore'] == 5]['variant'].describe()"
      ],
      "metadata": {
        "id": "TwO8j5s7DfCZ",
        "outputId": "dfd97a9b-4c66-44c5-94f2-b45d94710272",
        "colab": {
          "base_uri": "https://localhost:8080/",
          "height": 207
        }
      },
      "execution_count": 56,
      "outputs": [
        {
          "output_type": "execute_result",
          "data": {
            "text/plain": [
              "count                         1539\n",
              "unique                          73\n",
              "top       Colour: BlueSize: 128 GB\n",
              "freq                           113\n",
              "Name: variant, dtype: object"
            ],
            "text/html": [
              "<div>\n",
              "<style scoped>\n",
              "    .dataframe tbody tr th:only-of-type {\n",
              "        vertical-align: middle;\n",
              "    }\n",
              "\n",
              "    .dataframe tbody tr th {\n",
              "        vertical-align: top;\n",
              "    }\n",
              "\n",
              "    .dataframe thead th {\n",
              "        text-align: right;\n",
              "    }\n",
              "</style>\n",
              "<table border=\"1\" class=\"dataframe\">\n",
              "  <thead>\n",
              "    <tr style=\"text-align: right;\">\n",
              "      <th></th>\n",
              "      <th>variant</th>\n",
              "    </tr>\n",
              "  </thead>\n",
              "  <tbody>\n",
              "    <tr>\n",
              "      <th>count</th>\n",
              "      <td>1539</td>\n",
              "    </tr>\n",
              "    <tr>\n",
              "      <th>unique</th>\n",
              "      <td>73</td>\n",
              "    </tr>\n",
              "    <tr>\n",
              "      <th>top</th>\n",
              "      <td>Colour: BlueSize: 128 GB</td>\n",
              "    </tr>\n",
              "    <tr>\n",
              "      <th>freq</th>\n",
              "      <td>113</td>\n",
              "    </tr>\n",
              "  </tbody>\n",
              "</table>\n",
              "</div><br><label><b>dtype:</b> object</label>"
            ]
          },
          "metadata": {},
          "execution_count": 56
        }
      ]
    }
  ]
}